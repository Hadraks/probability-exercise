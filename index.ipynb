{
 "cells": [
  {
   "cell_type": "markdown",
   "metadata": {},
   "source": [
    "# Probability of road conditions\n",
    "<img src=\"roads.jpg\" alt=\"Image of roads\" width=\"500\"/>"
   ]
  },
  {
   "cell_type": "code",
   "execution_count": 1,
   "metadata": {
    "ExecuteTime": {
     "end_time": "2021-01-12T14:36:16.632649Z",
     "start_time": "2021-01-12T14:36:16.619748Z"
    }
   },
   "outputs": [
    {
     "data": {
      "text/html": [
       "<div>\n",
       "<style scoped>\n",
       "    .dataframe tbody tr th:only-of-type {\n",
       "        vertical-align: middle;\n",
       "    }\n",
       "\n",
       "    .dataframe tbody tr th {\n",
       "        vertical-align: top;\n",
       "    }\n",
       "\n",
       "    .dataframe thead th {\n",
       "        text-align: right;\n",
       "    }\n",
       "</style>\n",
       "<table border=\"1\" class=\"dataframe\">\n",
       "  <thead>\n",
       "    <tr style=\"text-align: right;\">\n",
       "      <th></th>\n",
       "      <th>Clear</th>\n",
       "      <th>Wet</th>\n",
       "      <th>Icy</th>\n",
       "    </tr>\n",
       "  </thead>\n",
       "  <tbody>\n",
       "    <tr>\n",
       "      <th>Clear</th>\n",
       "      <td>180</td>\n",
       "      <td>15</td>\n",
       "      <td>0</td>\n",
       "    </tr>\n",
       "    <tr>\n",
       "      <th>Wet</th>\n",
       "      <td>30</td>\n",
       "      <td>40</td>\n",
       "      <td>27</td>\n",
       "    </tr>\n",
       "    <tr>\n",
       "      <th>Icy</th>\n",
       "      <td>0</td>\n",
       "      <td>22</td>\n",
       "      <td>51</td>\n",
       "    </tr>\n",
       "  </tbody>\n",
       "</table>\n",
       "</div>"
      ],
      "text/plain": [
       "       Clear  Wet  Icy\n",
       "Clear    180   15    0\n",
       "Wet       30   40   27\n",
       "Icy        0   22   51"
      ]
     },
     "execution_count": 1,
     "metadata": {},
     "output_type": "execute_result"
    }
   ],
   "source": [
    "# Run this cell unchanged\n",
    "import pandas as pd\n",
    "\n",
    "data = [{'Clear': 180, 'Wet': 15, 'Icy': 0},\n",
    "       {'Clear': 30, 'Wet': 40, 'Icy': 27},\n",
    "       {'Clear': 0, 'Wet': 22, 'Icy': 51}]\n",
    "\n",
    "df = pd.DataFrame(data, index = ['Clear', 'Wet', 'Icy'])\n",
    "df.head()"
   ]
  },
  {
   "cell_type": "markdown",
   "metadata": {
    "ExecuteTime": {
     "end_time": "2020-06-02T02:54:12.530981Z",
     "start_time": "2020-06-02T02:54:12.523178Z"
    }
   },
   "source": [
    "**The above dataframe** represents the joint road conditions for two neighboring streets over a time frame of 365 days. \n",
    "\n",
    "The index represents `Street 1` and the columns represent `Street  2`\n",
    "\n",
    "The values represent the number of days the two road conditions for each street occurred on the same day.\n",
    ">ie. There were 15 days out of 365 that `Street 1` had Clear conditions and `Street 2` had Wet conditions"
   ]
  },
  {
   "cell_type": "markdown",
   "metadata": {},
   "source": [
    "## Question 1"
   ]
  },
  {
   "cell_type": "markdown",
   "metadata": {},
   "source": [
    "What is the probability of there being Clear conditions on street 1 and clear conditions on street 2?\n",
    "\n",
    "> When solving probability problems, the language is usually very important. In this case, the word `and` is used. \n",
    "\n",
    "> Here, we can use the conditional probability formula: $P(B|A) = P(A\\space and\\space B)/P(A)$, but the terms in the formula will need to be moved around first!"
   ]
  },
  {
   "cell_type": "code",
   "execution_count": 8,
   "metadata": {},
   "outputs": [
    {
     "data": {
      "text/plain": [
       "0.4931506849315068"
      ]
     },
     "execution_count": 8,
     "metadata": {},
     "output_type": "execute_result"
    }
   ],
   "source": [
    "#𝑃(𝐵|𝐴)=𝑃(𝐴 𝑎𝑛𝑑 𝐵)/𝑃(𝐴)\n",
    "#street 1 is A, street 2 is B\n",
    "#prob_a_clear = 215/365\n",
    "#prob_b_clear = 195/365\n",
    "#prob_a_and_b_clear = 180/365\n",
    "#prob_b_given_a = prob_a_and_b_clear/ prob_a_clear\n",
    "#prob_b_given_a\n",
    "#total_clear = (180 +15 + 30)/ 365\n",
    "#P (A & B) = 180/365 \n",
    "#P(A) = (180 + 15)/365\n",
    "#P(B|A) = 180/ 365\n",
    "P_A_B = 180/365\n",
    "P_A_B\n",
    "#225 = 180/210\n",
    "#180/ 365\n",
    "# 0.4931506849315068"
   ]
  },
  {
   "cell_type": "markdown",
   "metadata": {},
   "source": [
    "## Question 2\n",
    "\n",
    "What is the probability of it not being Icy on `Street1` and Icy on `Street2`?\n",
    "\n",
    "$P(Street1=Not\\space Icy\\space and\\space Street2=Icy) = P(Street1 ∈ (Clear ∪ Wet) ∩ Street2=Icy)$"
   ]
  },
  {
   "cell_type": "code",
   "execution_count": 9,
   "metadata": {},
   "outputs": [
    {
     "data": {
      "text/plain": [
       "0.07397260273972603"
      ]
     },
     "execution_count": 9,
     "metadata": {},
     "output_type": "execute_result"
    }
   ],
   "source": [
    "27/365\n",
    "# 0.07397260273972603"
   ]
  },
  {
   "cell_type": "markdown",
   "metadata": {},
   "source": [
    "## Question 3"
   ]
  },
  {
   "cell_type": "markdown",
   "metadata": {},
   "source": [
    "What is the probability of it being Clear on `Street2` <u>regardless of the conditions</u> on `Street1`?\n",
    "\n",
    "$$P(Street2=Clear) =$$ \n",
    "$$P(Street2=Clear ∩ Street1=Clear) + $$\n",
    "$$P(Street2=Clear ∩ Street1=Wet)+ $$\n",
    "$$P(Street2=Clear ∩ Street1=Icy)$$"
   ]
  },
  {
   "cell_type": "code",
   "execution_count": 11,
   "metadata": {},
   "outputs": [
    {
     "data": {
      "text/plain": [
       "0.5753424657534246"
      ]
     },
     "execution_count": 11,
     "metadata": {},
     "output_type": "execute_result"
    }
   ],
   "source": [
    "#clear_street_2 = 180/365 + 30/365\n",
    "#clear_street_2\n",
    "# 0.5753424657534246\n",
    "clear_street2 = df.Clear.sum()/365\n",
    "clear_street2\n",
    "#how does it know to do it in the column but not the row"
   ]
  },
  {
   "cell_type": "markdown",
   "metadata": {},
   "source": [
    "## Question 4\n",
    "\n",
    "What is the probability  of it being Clear on ```Street1``` given that it is Clear on ```Street2```?\n",
    "\n",
    "$P(Street1=Clear|Street2=Clear) = \\displaystyle \\frac{P(Street1=Clear\\space and\\space Street2=Clear)}{P(Street2=Clear)}$"
   ]
  },
  {
   "cell_type": "code",
   "execution_count": 12,
   "metadata": {},
   "outputs": [
    {
     "data": {
      "text/plain": [
       "0.8571428571428571"
      ]
     },
     "execution_count": 12,
     "metadata": {},
     "output_type": "execute_result"
    }
   ],
   "source": [
    "#answer will be 6/7\n",
    "#𝑃(𝑆𝑡𝑟𝑒𝑒𝑡1=𝐶𝑙𝑒𝑎𝑟|𝑆𝑡𝑟𝑒𝑒𝑡2=𝐶𝑙𝑒𝑎𝑟)=𝑃(𝑆𝑡𝑟𝑒𝑒𝑡1=𝐶𝑙𝑒𝑎𝑟 𝑎𝑛𝑑 𝑆𝑡𝑟𝑒𝑒𝑡2=𝐶𝑙𝑒𝑎𝑟)𝑃(𝑆𝑡𝑟𝑒𝑒𝑡2=𝐶𝑙𝑒𝑎𝑟)\n",
    "180/210\n",
    "# 0.8571428571428571"
   ]
  },
  {
   "cell_type": "markdown",
   "metadata": {
    "ExecuteTime": {
     "end_time": "2020-06-02T02:45:51.728741Z",
     "start_time": "2020-06-02T02:45:51.723087Z"
    }
   },
   "source": [
    "## Question 5\n",
    "\n",
    "What is the probability of it being Clear on `Street2` given that it is Clear on `Street1`?\n",
    "\n",
    "$P(Street2=Clear|Street1=Clear) = \\displaystyle \\frac{P(Street2=Clear\\space and\\space Street1=Clear)}{P(Street1=Clear)}$"
   ]
  },
  {
   "cell_type": "code",
   "execution_count": 13,
   "metadata": {},
   "outputs": [
    {
     "data": {
      "text/plain": [
       "0.9230769230769231"
      ]
     },
     "execution_count": 13,
     "metadata": {},
     "output_type": "execute_result"
    }
   ],
   "source": [
    "# Your code here\n",
    "180/195\n",
    "# 0.923076923076923\n",
    "\n",
    "# answer from solutions (180/365)/(195/365)"
   ]
  },
  {
   "cell_type": "markdown",
   "metadata": {},
   "source": [
    "# Card Combinatorics\n",
    "\n",
    "<img src=\"https://www.denofgeek.com/wp-content/uploads/2020/06/magic-the-gathering-competitive-decks.jpg?fit=1200%2C675\" width=\"600px;\">"
   ]
  },
  {
   "cell_type": "markdown",
   "metadata": {},
   "source": [
    "## Question 6"
   ]
  },
  {
   "cell_type": "markdown",
   "metadata": {},
   "source": [
    "The rules for the card game Magic the Gathering are as followed:\n",
    "\n",
    "* A player can have a maximum of 7 cards in their hand\n",
    "* A deck must have 60 cards\n",
    "\n",
    "In the cell below, calculate the number of possible 7 card combinations from a deck containing 60 cards."
   ]
  },
  {
   "cell_type": "code",
   "execution_count": 19,
   "metadata": {},
   "outputs": [
    {
     "data": {
      "text/plain": [
       "386206920.0"
      ]
     },
     "execution_count": 19,
     "metadata": {},
     "output_type": "execute_result"
    }
   ],
   "source": [
    "# Your code here\n",
    "#something like \n",
    "#combination(60, 7)- Abass did this- did he use some stats package?\n",
    "#factorial of 7\n",
    "from math import factorial\n",
    "factorial(60)/((factorial(60 - 7)) * factorial(7))\n",
    "#top is total possibility, first divider is permutations depending on # of cards, 2nd divider will take away \n",
    "#trying to understand top is total card order possible\n",
    "# 386206920.0"
   ]
  },
  {
   "cell_type": "code",
   "execution_count": 20,
   "metadata": {},
   "outputs": [
    {
     "data": {
      "text/plain": [
       "80658175170943878571660636856403766975289505440883277824000000000000"
      ]
     },
     "execution_count": 20,
     "metadata": {},
     "output_type": "execute_result"
    }
   ],
   "source": [
    "#checking randomness of card shuffling\n",
    "factorial(52)"
   ]
  },
  {
   "cell_type": "code",
   "execution_count": 18,
   "metadata": {},
   "outputs": [
    {
     "data": {
      "text/plain": [
       "<itertools.combinations at 0x22817141ae0>"
      ]
     },
     "execution_count": 18,
     "metadata": {},
     "output_type": "execute_result"
    }
   ],
   "source": [
    "from itertools import combinations\n",
    "cards = combinations([1,2,3,4,5,6,7], 60)\n",
    "cards"
   ]
  },
  {
   "cell_type": "markdown",
   "metadata": {},
   "source": [
    "## Question 7\n",
    "\n",
    "A standard magic the gathering deck has 60 cards in total, and is made up of 24 land cards and 36 magic cards.\n",
    "\n",
    "Given a hand of seven hards, how many possible hand combinations exists that contain exactly two lands?"
   ]
  },
  {
   "cell_type": "code",
   "execution_count": null,
   "metadata": {},
   "outputs": [],
   "source": [
    "\n",
    "# 104049792.0"
   ]
  },
  {
   "cell_type": "markdown",
   "metadata": {},
   "source": [
    "## Question 8"
   ]
  },
  {
   "cell_type": "markdown",
   "metadata": {},
   "source": [
    "Given a hand of seven cards, what is the probability of drawing a hand with 2 *or more* land cards?\n",
    "\n",
    "*Hint:* If you're stuck, check out [this thread](https://www.quora.com/How-many-different-hands-can-be-dealt-that-contain-3-aces-A-hand-of-five-cards-is-dealt-from-a-pack-of-52-playing-cards#:~:text=The%20number%20of%20ways%20to%20draw%20two%20Aces%20from%20four,*6*44%20%3D%201%2C584.)"
   ]
  },
  {
   "cell_type": "code",
   "execution_count": null,
   "metadata": {},
   "outputs": [],
   "source": [
    "# Your code here\n",
    "# 0.8573441200898213"
   ]
  }
 ],
 "metadata": {
  "hide_input": false,
  "kernelspec": {
   "display_name": "Python 3 (ipykernel)",
   "language": "python",
   "name": "python3"
  },
  "language_info": {
   "codemirror_mode": {
    "name": "ipython",
    "version": 3
   },
   "file_extension": ".py",
   "mimetype": "text/x-python",
   "name": "python",
   "nbconvert_exporter": "python",
   "pygments_lexer": "ipython3",
   "version": "3.9.7"
  },
  "toc": {
   "base_numbering": 1,
   "nav_menu": {},
   "number_sections": false,
   "sideBar": true,
   "skip_h1_title": true,
   "title_cell": "Table of Contents",
   "title_sidebar": "Contents",
   "toc_cell": false,
   "toc_position": {},
   "toc_section_display": true,
   "toc_window_display": false
  },
  "varInspector": {
   "cols": {
    "lenName": 16,
    "lenType": 16,
    "lenVar": 40
   },
   "kernels_config": {
    "python": {
     "delete_cmd_postfix": "",
     "delete_cmd_prefix": "del ",
     "library": "var_list.py",
     "varRefreshCmd": "print(var_dic_list())"
    },
    "r": {
     "delete_cmd_postfix": ") ",
     "delete_cmd_prefix": "rm(",
     "library": "var_list.r",
     "varRefreshCmd": "cat(var_dic_list()) "
    }
   },
   "types_to_exclude": [
    "module",
    "function",
    "builtin_function_or_method",
    "instance",
    "_Feature"
   ],
   "window_display": false
  }
 },
 "nbformat": 4,
 "nbformat_minor": 4
}
